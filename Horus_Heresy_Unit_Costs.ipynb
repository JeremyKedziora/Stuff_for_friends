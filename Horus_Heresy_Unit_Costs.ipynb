{
 "cells": [
  {
   "cell_type": "code",
   "execution_count": 3,
   "metadata": {
    "collapsed": true
   },
   "outputs": [],
   "source": [
    "import numpy as np    #import numpy\n",
    "from math import factorial as f    #import math"
   ]
  },
  {
   "cell_type": "code",
   "execution_count": 4,
   "metadata": {
    "collapsed": false
   },
   "outputs": [],
   "source": [
    "def nCk(n,k):    #define a function to compute the combinations\n",
    "    \"\"\"A function to compute n choose k.  The function returns 0 if k>n.\"\"\"\n",
    "    try:\n",
    "        r = f(n)/(f(k)*f(n-k))\n",
    "    except:\n",
    "        r = 0.0\n",
    "    return r\n"
   ]
  },
  {
   "cell_type": "code",
   "execution_count": 5,
   "metadata": {
    "collapsed": false
   },
   "outputs": [],
   "source": [
    "def B(k,n,p):    #define a function to compute the binomial probability mass function\n",
    "    \"\"\"A function to compute the probability of k successes given n trials w/ prob p of success.\"\"\"\n",
    "    return nCk(n,k)*p**k*(1 - p)**(n - k)\n"
   ]
  },
  {
   "cell_type": "code",
   "execution_count": 6,
   "metadata": {
    "collapsed": true
   },
   "outputs": [],
   "source": [
    "def pmf(k,n_1,p_1,n_2,p_2):    #define a function to compute the derived pmf\n",
    "    \"\"\"A function to compute the probability distribution over the number of hits remaining after defending.\n",
    "    The function takes in:\n",
    "    k: nmber of hits\n",
    "    n_1: the number of attacks\n",
    "    p_1: the likelihood of an attack being successful\n",
    "    n_2: the number of defenses\n",
    "    p_2: the likelhood of defending\n",
    "    The function returns p(k).\"\"\"\n",
    "    p = 0.0\n",
    "    if k >= 0:\n",
    "        for i in range(0,n_1):\n",
    "            p += B(k+i,n_1,p_1)*B(i,n_2,p_2)\n",
    "    if k < 0:\n",
    "        for i in range(0,n_2):\n",
    "            p += B(i,n_1,p_1)*B(k+i,n_2,p_2)\n",
    "    return p\n"
   ]
  },
  {
   "cell_type": "code",
   "execution_count": 7,
   "metadata": {
    "collapsed": true
   },
   "outputs": [],
   "source": [
    "def cmf(Z,n_1,p_1,n_2,p_2):    #a function to compute the cmf - in this case prob that 1 kills 2\n",
    "    \"\"\"A function to compute the probability that computes the CDF of the PMF in the previous cell.\n",
    "    Substantively, this would be the probability that 1 defeats 2.\n",
    "    The function takes in:\n",
    "    Z: the number of hits needed to fell the target\n",
    "    n_1: the number of attack against the target\n",
    "    p_1: the likelihood that an attack will be successful\n",
    "    n_2: the number of defenses\n",
    "    p_2: the likelihood of defending\n",
    "    The function returns p(k>=Z).\"\"\"\n",
    "    c = 0.0\n",
    "    for k in range(Z,n_1+1):\n",
    "        c += pmf(k,n_1,p_1,n_2,p_2)\n",
    "    return c\n"
   ]
  },
  {
   "cell_type": "code",
   "execution_count": 8,
   "metadata": {
    "collapsed": true
   },
   "outputs": [],
   "source": [
    "def Cost(shoot,assault,armor,stamina,bulk,n_action,armor_target,stamina_target):\n",
    "    \"\"\"A function to compute the cost of a unit given assumptions about the importance of ranged fire vs close combat.\n",
    "    The function takes in:\n",
    "    shoot: the number of shooting attacks of the unit to be evaluated\n",
    "    assault: the number of close combat attacks of the unit to be evaluated\n",
    "    armor: the armor of the unit to be evaluated\n",
    "    stamina: the stamina of the unit to be evaluated\n",
    "    bulk: the number of individuals who can fit in a discrete space\n",
    "    n_action: the number of actions the unit to be evaluated can make per turn\n",
    "    armor_target: the armor of the basic target - assume the same for all units to be evaluated\n",
    "    stamina_target: the stamina of the basic target - assume the same for all units to be evaluated\n",
    "    The function returns a non-normalized number that represents a weighted combination of the probability that the\n",
    "    unit to be evaluated kills the basic target and the probability that a unit of the basic target kills the\n",
    "    unit to be evaluated.\"\"\"\n",
    "    #fixed model parameters\n",
    "    p_hit = 2.0/6.0    #from the dice, the prob of a hit\n",
    "    p_chit = 1.0/6.0    #from the dice, the prob of a critical hit\n",
    "    p_defend = 2.0/6.0    #from the dice, the prob of a block\n",
    "\n",
    "    w_shoot = 0.5    #the relative importance of shooting - must add to one with assault\n",
    "    w_assault = 0.5    #the relative importance of assault - must add to one with shooting\n",
    "    w_offense = 0.5    #the relative importance of offense - must add to one with defence\n",
    "    w_defense = 0.5    #the relative importance of defense - must add to one with offense\n",
    "\n",
    "    Shoot_base = 6    #the number of base shooting attacks\n",
    "    Assault_base = 6    #the number of base assault attacks\n",
    "\n",
    "    hex_size = 3.0    #how much can fit in a hex\n",
    "    \n",
    "    c = n_action*(w_offense*(w_shoot*hex_size/bulk*cmf(stamina_target,shoot,p_hit+p_chit,armor_target,p_defend) \n",
    "                             + w_assault*hex_size/bulk*cmf(stamina_target,assault,p_hit+p_chit,armor_target,p_defend)) \n",
    "                  + w_defense*(w_shoot*(1 - cmf(stamina,Shoot_base,p_hit+p_chit,armor,p_defend)) \n",
    "                               + w_assault*(1 - cmf(stamina,Assault_base,p_hit+p_chit,armor,p_defend))))     #compute the cost\n",
    "    \n",
    "    return c\n"
   ]
  },
  {
   "cell_type": "code",
   "execution_count": 9,
   "metadata": {
    "collapsed": false
   },
   "outputs": [
    {
     "name": "stdout",
     "output_type": "stream",
     "text": [
      "The normalizing constant is: 22.677165354330718 .  With this constant an individual basic Astartes is 10 pts.\n"
     ]
    }
   ],
   "source": [
    "#Individual baseline cost with no weapons\n",
    "Cost_Astartes_base = Cost(0,2,2,2,1,2,2,2)\n",
    "M = 10/Cost_Astartes_base\n",
    "print('The normalizing constant is:',M,'.  With this constant an individual basic Astartes is 10 pts.')\n"
   ]
  },
  {
   "cell_type": "code",
   "execution_count": 49,
   "metadata": {
    "collapsed": false
   },
   "outputs": [
    {
     "data": {
      "text/plain": [
       "{'Acute_senses': 1,\n",
       " 'Chain_fire': 44,\n",
       " 'Counterattack': 1,\n",
       " 'Fearless': 13,\n",
       " 'Furious_Charge': 3,\n",
       " 'Fury_of_the_Legion': 9,\n",
       " 'Hardened_Armor': 6,\n",
       " 'Infiltrate': 2,\n",
       " 'Jump_infantry': 5,\n",
       " 'Lone_Killer': -16,\n",
       " 'Outflank': 3,\n",
       " 'Preferred_Enemy': 3,\n",
       " 'Scout': 1,\n",
       " 'Shrouded': 4,\n",
       " 'Slow_and_Purposeful': 5,\n",
       " 'Sniper': 2,\n",
       " 'Stealth': 2}"
      ]
     },
     "execution_count": 49,
     "metadata": {},
     "output_type": "execute_result"
    }
   ],
   "source": [
    "#special rule costs\n",
    "Jump_infantry = M*(Cost(0,2,2,2,1,3,2,2) - Cost_Astartes_base)    #assume more actions\n",
    "Hardened_Armor = M*(Cost(0,2,5,2,1,2,2,2) - Cost_Astartes_base)    #assume more defense - this overcosts\n",
    "Counterattack = M*(Cost(0,2,2,2,1,2.3,2,2) - Cost_Astartes_base)    #assume more actions\n",
    "Scout = M*(8.0/6.0*0.5*(Cost(0,2,2,2,1,2.3,2,2) - Cost_Astartes_base))    #assume two extra turns restricted to half of the possible actions\n",
    "Stealth = M*(Cost(0,2,3,2,1,2,2,2) - Cost_Astartes_base)    #assume more defense - this overcosts\n",
    "Shrouded = M*(Cost(0,2,4,2,1,2,2,2) - Cost_Astartes_base)    #assume more defense - this overcosts\n",
    "Slow_and_Purposeful = M*(Cost(0,2,2,2,1,3,2,2) - Cost_Astartes_base)    #assume more actions\n",
    "Chain_fire = M*(Cost(4,2,2,2,1,3,2,2) + Cost(2,2,2,2,1,3,2,2) + Cost(1,2,2,2,1,3,2,2) - 3.0*Cost_Astartes_base)    #assume more actions\n",
    "Lone_Killer = M*(Cost(0,2,2,2,1,2,2,2) - Cost(0,2,6,6,1,2,2,2))    #assume a decrease in armor and stamina\n",
    "Infiltrate = (Scout*2.0)    #four extra turns\n",
    "Outflank = (Scout*3.0)    #three extra turns\n",
    "Acute_senses = (0.75*(1.0/3.0*Scout + 1.0/3.0*Infiltrate + 1.0/3.0*Outflank) - Cost_Astartes_base)    #assume fewer enemy actions\n",
    "Preferred_Enemy = M*(1.0/11.0*(Cost(3,3,2,2,1,3,2,2) - Cost_Astartes_base))    #assume more attacks in shooting and assault\n",
    "Fury_of_the_Legion = M*(Cost(4,2,2,2,1,1,2,2) + (1 - 5.0/6.0**2.0)*0.5*Cost(2,2,2,2,1,2,2,2) - Cost_Astartes_base)    #equate with larger shoot but fewer actions\n",
    "Fearless = M*((1 - cmf(2,2,1.0/2.0,2,1.0/3.0))*2.0/3.0)    #equate with likelihood of death in close combat\n",
    "Sniper = M*(cmf(2,2,1.0/2.0,2,1.0/3.0)*Cost(0,2,4,3,1,2,2,2))    #choose target - probably an officer\n",
    "Furious_Charge = M*(0.5*(Cost(0,3,2,2,1,2,2,2) - Cost_Astartes_base))    #extra assault dice when in an assault action\n",
    "\n",
    "Special_rules = {}\n",
    "Special_rules['Jump_infantry'] = round(Jump_infantry)\n",
    "Special_rules['Hardened_Armor'] = round(Hardened_Armor)\n",
    "Special_rules['Counterattack'] = round(Counterattack)\n",
    "Special_rules['Scout'] = round(Scout)\n",
    "Special_rules['Stealth'] = round(Stealth)\n",
    "Special_rules['Shrouded'] = round(Shrouded)\n",
    "Special_rules['Slow_and_Purposeful'] = round(Slow_and_Purposeful)\n",
    "Special_rules['Chain_fire'] = round(Chain_fire)\n",
    "Special_rules['Lone_Killer'] = round(Lone_Killer)\n",
    "Special_rules['Infiltrate'] = round(Infiltrate)\n",
    "Special_rules['Outflank'] = round(Outflank)\n",
    "Special_rules['Acute_senses'] = round(Acute_senses)\n",
    "Special_rules['Preferred_Enemy'] = round(Preferred_Enemy)\n",
    "Special_rules['Fury_of_the_Legion'] = round(Fury_of_the_Legion)\n",
    "Special_rules['Fearless'] = round(Fearless)\n",
    "Special_rules['Sniper'] = round(Sniper)\n",
    "Special_rules['Furious_Charge'] = round(Furious_Charge)"
   ]
  },
  {
   "cell_type": "code",
   "execution_count": 158,
   "metadata": {
    "collapsed": false
   },
   "outputs": [
    {
     "data": {
      "text/plain": [
       "{'Assault': 10,\n",
       " 'Breacher': 12,\n",
       " 'Cataphractii': 24,\n",
       " 'Centurion': 20,\n",
       " 'Destroyer': 10,\n",
       " 'Recon': 10,\n",
       " 'Seeker': 10,\n",
       " 'Support': 10,\n",
       " 'Tactical': 10,\n",
       " 'Tartaros': 24,\n",
       " 'Veteran': 16}"
      ]
     },
     "execution_count": 158,
     "metadata": {},
     "output_type": "execute_result"
    }
   ],
   "source": [
    "#Costs for individual soldiers\n",
    "#Headquarters\n",
    "Centurion = M*Cost(0,2,4,3,1,2,2,2)    #Fearless\n",
    "\n",
    "#Elites\n",
    "Veteran = M*Cost(0,3,2,2,1,2,2,2)    #one of Fearless, Sniper, Furious Charge, Outflank, or Tank Hunters Special rule\n",
    "Destroyer = M*Cost(0,2,2,2,1,2,2,2)    #counterattack special rule\n",
    "Cataphractii = M*Cost(0,3,5,3,1.5,2,2,2)    #Hardened Armor, slow and purposeful\n",
    "Tartaros = M*Cost(0,3,5,3,1.5,2,2,2)    \n",
    "\n",
    "#Troops\n",
    "Tactical = M*Cost(0,2,2,2,1,2,2,2)    #Fury of the Legion\n",
    "Recon = M*Cost(0,2,2,2,1,2,2,2)    #Infiltrate, Scout, Outflank, and Acute Senses\n",
    "Breacher = M*Cost(0,2,3,2,1,2,2,2)    #Hardened Armor\n",
    "Assault = M*Cost(0,2,2,2,1,2,2,2)    #Jump Infantry\n",
    "\n",
    "#Support\n",
    "Support = M*Cost(0,2,2,2,1,2,2,2)\n",
    "Seeker = M*Cost(0,2,2,2,1,2,2,2)    #Preferred Enemy\n",
    "\n",
    "Soldiers = {}\n",
    "Soldiers['Centurion'] = round(Centurion)\n",
    "Soldiers['Veteran'] = round(Veteran)\n",
    "Soldiers['Destroyer'] = round(Destroyer)\n",
    "Soldiers['Cataphractii'] = round(Cataphractii)\n",
    "Soldiers['Tartaros'] = round(Tartaros)\n",
    "Soldiers['Tactical'] = round(Tactical)\n",
    "Soldiers['Recon'] = round(Recon)\n",
    "Soldiers['Breacher'] = round(Breacher)\n",
    "Soldiers['Assault'] = round(Assault)\n",
    "Soldiers['Support'] = round(Support)\n",
    "Soldiers['Seeker'] = round(Seeker)\n",
    "Soldiers"
   ]
  },
  {
   "cell_type": "code",
   "execution_count": 183,
   "metadata": {
    "collapsed": false
   },
   "outputs": [
    {
     "data": {
      "text/plain": [
       "{'Autocannon': 45,\n",
       " 'Bolt_pistol': 5,\n",
       " 'Bolter': 10,\n",
       " 'Combibolter': 22,\n",
       " 'Combiweapon': 15,\n",
       " 'Flamer': 20,\n",
       " 'Graviton_gun': 38,\n",
       " 'Hand_flamer': 14,\n",
       " 'Heavy_bolter': 32,\n",
       " 'Heavy_flamer': 30,\n",
       " 'Meltagun': 21,\n",
       " 'Missile_launcher': 56,\n",
       " 'Plasmagun': 20,\n",
       " 'Plasmapistol': 10,\n",
       " 'Sniper_rifle': 18,\n",
       " 'Volkite_caliver': 54,\n",
       " 'Volkite_serpenta': 26}"
      ]
     },
     "execution_count": 183,
     "metadata": {},
     "output_type": "execute_result"
    }
   ],
   "source": [
    "#Shooting Weapon cost factoring in critical effect\n",
    "Bolter = M*(Cost(2,2,2,2,1,2,2,2) + (1 - 5.0/6.0**2.0)*0.5*Cost(2,2,2,2,1,2,2,2) - Cost_Astartes_base)\n",
    "Bolt_pistol = Bolter*1.0/2.0\n",
    "Combibolter = M*(Cost(4,2,2,2,1,2,2,2) + (1.0 - 5.0/6.0**4.0)*0.5*Cost(2,2,2,2,1,2,2,2) - Cost_Astartes_base)\n",
    "Heavy_bolter = M*(Cost(6,2,2,2,1,2,2,2) + (1 - 5.0/6.0**6.0)*0.5*Cost(2,2,2,2,1,2,2,2) - Cost_Astartes_base)\n",
    "Meltagun = M*(5.0/6.0**3.0*Cost(3,2,2,2,1,2,2,2) + (1.0 - 5.0/6.0**3.0)*Cost(3,2,2,2,1,2,0,2) - Cost_Astartes_base)\n",
    "Volkite_caliver = M*(5.0/6.0**4.0*Cost(4,2,2,2,1,2,2,2) + (1.0 - 5.0/6.0**4.0)*Cost(4,2,2,2,1,2,2,0) - Cost_Astartes_base)\n",
    "Volkite_serpenta = M*(1.0/2.0*(5.0/6.0**3.0*Cost(3,2,2,2,1,2,2,2) + (1.0 - 5.0/6.0**3.0)*Cost(3,2,2,2,1,2,2,0) - Cost_Astartes_base))\n",
    "Flamer = M*(1.0/2.0*(5.0/6.0**4.0*Cost(4,2,2,2,1,2,2,2) + (1.0 - 5.0/6.0**4.0)*2.0*Cost(4,2,2,2,1,2,2,2) - Cost_Astartes_base))\n",
    "Hand_flamer = M*(1.0/2.0*(5.0/6.0**3.0*Cost(3,2,2,2,1,2,2,2) + (1.0 - 5.0/6.0**3.0)*2.0*Cost(3,2,2,2,1,2,2,2) - Cost_Astartes_base))\n",
    "Heavy_flamer = M*(1.0/2.0*(5.0/6.0**6.0*Cost(6,2,2,2,1,2,2,2) + (1.0 - 5.0/6.0**6.0)*2.0*Cost(6,2,2,2,1,2,2,2) - Cost_Astartes_base))\n",
    "Plasmapistol = M*(1.0/2.0*(5.0/6.0**3.0*Cost(3,2,2,2,1,2,2,2) + (1.0 - 5.0/6.0**3.0)*((B(0.0,4.0,1.0/6.0) + B(1.0,4.0,1.0/6.0))*Cost(7,2,2,2,1,2,2,2) - (B(2.0,4.0,1.0/6.0) + B(3.0,4.0,1.0/6.0) + B(4.0,4.0,1.0/6.0))*Cost(3,2,2,2,1,2,2,2)) - Cost_Astartes_base))\n",
    "Plasmagun = M*((5.0/6.0**3.0*Cost(3,2,2,2,1,2,2,2) + (1.0 - 5.0/6.0**3.0)*((B(0.0,4.0,1.0/6.0) + B(1.0,4.0,1.0/6.0))*Cost(7,2,2,2,1,2,2,2) - (B(2.0,4.0,1.0/6.0) + B(3.0,4.0,1.0/6.0) + B(4.0,4.0,1.0/6.0))*Cost(3,2,2,2,1,2,2,2)) - Cost_Astartes_base))\n",
    "Combiweapon = 1.0/2.0*Bolter + 1.0/2.0*(1.0/3.0*Flamer + 1.0/3.0*Plasmagun + 1.0/3.0*Meltagun)\n",
    "Sniper_rifle = M*(Cost(4,2,2,2,1,2,2,2) + (1 - 5.0/6.0**4.0)*1.0/3.0*1.0/2.0*Cost(2,2,2,2,1,2,2,2) - Cost_Astartes_base)\n",
    "Missile_launcher = M*(5.0/6.0**5.0*Cost(5,2,2,2,1,2,2,2) + (1.0 - 5.0/6.0**5.0)*Cost(7,2,2,2,1,2,2,0) - Cost_Astartes_base)\n",
    "Graviton_gun = M*(Cost(6,2,2,2,1,2,2,2) + (1 - 5.0/6.0**6.0)*Cost(2,2,2,2,1,2,2,2) - Cost_Astartes_base)\n",
    "Autocannon = M*(Cost(6,2,2,2,1,2,2,2) + 0.5*(1 - 5.0/6.0**2.0)*0.5*Cost(2,2,2,2,1,2,2,2) + 0.5*Cost(0,6,2,2,1,2,1,2) - Cost_Astartes_base)\n",
    "\n",
    "Shooting_weapons = {}\n",
    "Shooting_weapons['Bolter'] = round(Bolter)\n",
    "Shooting_weapons['Bolt_pistol'] = round(Bolt_pistol)\n",
    "Shooting_weapons['Combibolter'] = round(Combibolter)\n",
    "Shooting_weapons['Heavy_bolter'] = round(Heavy_bolter)\n",
    "Shooting_weapons['Meltagun'] = round(Meltagun)\n",
    "Shooting_weapons['Volkite_caliver'] = round(Volkite_caliver)\n",
    "Shooting_weapons['Volkite_serpenta'] = round(Volkite_serpenta)\n",
    "Shooting_weapons['Flamer'] = round(Flamer)\n",
    "Shooting_weapons['Hand_flamer'] = round(Hand_flamer)\n",
    "Shooting_weapons['Heavy_flamer'] = round(Heavy_flamer)\n",
    "Shooting_weapons['Plasmapistol'] = round(Plasmapistol)\n",
    "Shooting_weapons['Plasmagun'] = round(Plasmagun)\n",
    "Shooting_weapons['Combiweapon'] = round(Combiweapon)\n",
    "Shooting_weapons['Sniper_rifle'] = round(Sniper_rifle)\n",
    "Shooting_weapons['Missile_launcher'] = round(Missile_launcher)\n",
    "Shooting_weapons['Graviton_gun'] = round(Graviton_gun)\n",
    "Shooting_weapons['Autocannon'] = round(Autocannon)\n",
    "Shooting_weapons"
   ]
  },
  {
   "cell_type": "code",
   "execution_count": 80,
   "metadata": {
    "collapsed": false
   },
   "outputs": [
    {
     "data": {
      "text/plain": [
       "{'Chain_fist': 17,\n",
       " 'Chain_sword': 11,\n",
       " 'Heavy_chain_sword': 24,\n",
       " 'Lightning_claw_1': 17,\n",
       " 'Lightning_claw_2': 27,\n",
       " 'Paragon_blade': 57,\n",
       " 'Power_fist': 5,\n",
       " 'Power_sword': 15,\n",
       " 'Thunder_hammer': 31}"
      ]
     },
     "execution_count": 80,
     "metadata": {},
     "output_type": "execute_result"
    }
   ],
   "source": [
    "#melee weapon costs figuring in critical effect\n",
    "Chain_fist = M*(5.0/6.0**3.0*Cost(0,3,2,2,1,2,2,2) + (1 - 5.0/6.0**3.0)*Cost(0,3,2,2,1,2,2,1) - Cost_Astartes_base)\n",
    "Power_sword = M*(5.0/6.0**3.0*Cost(0,4,2,2,1,2,2,2) + (1 - 5.0/6.0**3.0)*Cost(0,4,2,2,1,2,1,2) - Cost_Astartes_base)\n",
    "Chain_sword = M*(5.0/6.0**3.0*Cost(0,3,2,2,1,2,2,2) + (1 - 5.0/6.0**3.0)*Cost(0,4,2,2,1,2,2,2) - Cost_Astartes_base)\n",
    "Heavy_chain_sword = M*(5.0/6.0**3.0*Cost(0,5,2,2,1,2,2,2) + (1 - 5.0/6.0**3.0)*Cost(0,7,2,2,1,2,2,2) - Cost_Astartes_base)\n",
    "Thunder_hammer = M*(Cost(0,6,2,2,1,2,2,2) + (1 - 5.0/6.0**3.0)*Cost(0,2,2,2,1,2,2,2) - Cost_Astartes_base)\n",
    "Power_fist = M*(5.0/6.0**3.0*Cost(0,2,2,2,1,2,2,2) + (1 - 5.0/6.0**3.0)*Cost(0,2,2,2,1,2,0,2) - Cost_Astartes_base)\n",
    "Lightning_claw_1 = M*(5.0/6.0**3.0*Cost(0,3,2,2,1,2,2,2) + (1 - 5.0/6.0**3.0)*Cost(0,5,2,2,1,2,2,2) - Cost_Astartes_base)\n",
    "Lightning_claw_2 = M*(5.0/6.0**3.0*Cost(0,5,2,2,1,2,2,2) + (1 - 5.0/6.0**3.0)*Cost(0,9,2,2,1,2,2,2) - Cost_Astartes_base)\n",
    "Paragon_blade = M*(Cost(0,6,2,2,1,2,2,2) + (1 - 5.0/6.0**3.0)*Cost(0,2,2,2,1,2,1,0) - Cost_Astartes_base)\n",
    "\n",
    "Melee_weapons = {}\n",
    "Melee_weapons['Chain_fist'] = round(Chain_fist)\n",
    "Melee_weapons['Power_sword'] = round(Power_sword)\n",
    "Melee_weapons['Chain_sword'] = round(Chain_sword)\n",
    "Melee_weapons['Heavy_chain_sword'] = round(Heavy_chain_sword)\n",
    "Melee_weapons['Thunder_hammer'] = round(Thunder_hammer)\n",
    "Melee_weapons['Power_fist'] = round(Power_fist)\n",
    "Melee_weapons['Lightning_claw_1'] = round(Lightning_claw_1)\n",
    "Melee_weapons['Lightning_claw_2'] = round(Lightning_claw_2)\n",
    "Melee_weapons['Paragon_blade'] = round(Paragon_blade)\n",
    "Melee_weapons"
   ]
  },
  {
   "cell_type": "code",
   "execution_count": 123,
   "metadata": {
    "collapsed": false
   },
   "outputs": [
    {
     "data": {
      "text/plain": [
       "{'Artificer_armor': 6,\n",
       " 'Breacher_shield': 2,\n",
       " 'Cameleoline': 2,\n",
       " 'Cataphractii_terminator_armor': 25,\n",
       " 'Frag_grenade': 2,\n",
       " 'Grenade_harness': 17,\n",
       " 'Iron_halo': 6,\n",
       " 'Krak_grenade': 0,\n",
       " 'Legion_vexilla': 10,\n",
       " 'Melta_bombs': 1,\n",
       " 'Nuncio_vox': 2,\n",
       " 'Phosphex_bombs': 2,\n",
       " 'Rad_missile': 12,\n",
       " 'Tartaros_terminator_armor': 19}"
      ]
     },
     "execution_count": 123,
     "metadata": {},
     "output_type": "execute_result"
    }
   ],
   "source": [
    "#Item costs\n",
    "Cataphractii_terminator_armor = (M*Cost(0,3,5,3,1.5,2,2,2) + Special_rules['Hardened_Armor'] +\n",
    "                                   Special_rules['Slow_and_Purposeful'] - M*Cost_Astartes_base)\n",
    "Tartaros_terminator_armor = (M*Cost(0,3,5,3,1.5,2,2,2) +\n",
    "                                   Special_rules['Slow_and_Purposeful'] - M*Cost_Astartes_base)\n",
    "Artificer_armor = M*(Cost(0,2,5,2,1,2,2,2) - Cost_Astartes_base)    #gives 5 defense dice\n",
    "Iron_halo = Special_rules['Hardened_Armor']    #can reroll three defense dice\n",
    "Breacher_shield = M*(Cost(0,2,3,2,1,2,2,2) - Cost_Astartes_base)    #gives plus 1 defence die\n",
    "Frag_grenade = M*(1.0/12.0*(Cost(6,2,2,2,1,2,2,2) - Cost_Astartes_base))    #as on card\n",
    "Krak_grenade = M*(1.0/12.0*(5.0/6.0**4.0*Cost(4,2,2,2,1,2,2,2) + (1 - 5.0/6.0**4.0)*1.0/3.0*Cost(4,2,2,2,1,2,2,1) - Cost_Astartes_base))    #as on card\n",
    "Grenade_harness = M*(Cost(0,5,2,2,1,2,2,2) - Cost_Astartes_base)\n",
    "Phosphex_bombs = M*(1.0/12.0*2*(1 - 5.0/6.0**3.0 - Cost_Astartes_base))    #as on rad grenade\n",
    "Melta_bombs = M*(5.0/6.0**5.0*Cost(0,5,2,2,1,2,2,2) + (1 - 5.0/6.0**5.0)*1.0/3.0*Cost(0,5,2,2,1,2,0,2) - Cost_Astartes_base)    #as on card\n",
    "Rad_missile = M*(1 - 5.0/6.0**3.0 - Cost_Astartes_base)    #as on rad grenade\n",
    "Cameleoline = Special_rules['Stealth']    #more defense\n",
    "Nuncio_vox = Special_rules['Infiltrate']\n",
    "Legion_vexilla = M*(Cost(0,2,2,2,1,2,2,2)*(1 - 1.0/6.0**3.0))\n",
    "\n",
    "Items = {}\n",
    "Items['Cataphractii_terminator_armor'] = round(Cataphractii_terminator_armor)    #5 armor + hardened armor + slow and purposeful\n",
    "Items['Tartaros_terminator_armor'] = round(Tartaros_terminator_armor)    #5 armor + slow and purposeful\n",
    "Items['Artificer_armor'] = round(Artificer_armor)    #5 armor\n",
    "Items['Iron_halo'] = round(Iron_halo)    #hardened armor\n",
    "Items['Breacher_shield'] = round(Breacher_shield)    #+1 armor\n",
    "Items['Frag_grenade'] = round(Frag_grenade)    #see card\n",
    "Items['Krak_grenade'] = round(Krak_grenade)    #see card\n",
    "Items['Grenade_harness'] = round(Grenade_harness)    #plus 1 assault dice for each model in target unit\n",
    "Items['Phosphex_bombs'] = round(Phosphex_bombs)    #as on rad grenade card but for two turns and can move one hex\n",
    "Items['Melta_bombs'] = round(Melta_bombs)    #see card\n",
    "Items['Rad_missile'] = round(Rad_missile)    #as on rad grenade card\n",
    "Items['Cameleoline'] = round(Cameleoline)    #give stealth\n",
    "Items['Nuncio_vox'] = round(Nuncio_vox)    #allows deep strike\n",
    "Items['Legion_vexilla'] = round(Legion_vexilla)    #as in rule book\n",
    "Items"
   ]
  },
  {
   "cell_type": "code",
   "execution_count": 134,
   "metadata": {
    "collapsed": false
   },
   "outputs": [
    {
     "data": {
      "text/plain": [
       "{'Champion': 34, 'Moritat': 37, 'Vigilator': 29}"
      ]
     },
     "execution_count": 134,
     "metadata": {},
     "output_type": "execute_result"
    }
   ],
   "source": [
    "Moritat = Shooting_weapons['Bolt_pistol'] + Items['Phosphex_bombs'] + Special_rules['Scout'] + Special_rules['Counterattack'] + Special_rules['Chain_fire'] + Special_rules['Lone_Killer']\n",
    "Champion = M*(Cost(0,6,2,2,1,2,2,2) - Cost_Astartes_base) + Special_rules['Fearless']\n",
    "Vigilator = Special_rules['Scout'] + Special_rules['Sniper'] + Special_rules['Infiltrate'] + Shooting_weapons['Combiweapon'] + Items['Cameleoline']\n",
    "Consul_roles = {}\n",
    "Consul_roles['Moritat'] = round(Moritat)\n",
    "Consul_roles['Champion'] = round(Champion)\n",
    "Consul_roles['Vigilator'] = round(Vigilator)\n",
    "Consul_roles"
   ]
  },
  {
   "cell_type": "code",
   "execution_count": 174,
   "metadata": {
    "collapsed": false,
    "scrolled": true
   },
   "outputs": [
    {
     "data": {
      "text/plain": [
       "{'Assault': 312,\n",
       " 'Assault_no_weapons': 152,\n",
       " 'Breacher': 392,\n",
       " 'Breacher_no_weapons': 292,\n",
       " 'Cataphractii': 360,\n",
       " 'Cataphractii_no_weapons': 175,\n",
       " 'Centurion': 38,\n",
       " 'Centurion_no_weapons': 22,\n",
       " 'Destroyer': 162,\n",
       " 'Destroyer_no_weapons': 57,\n",
       " 'Recon': 115,\n",
       " 'Recon_no_weapons': 65,\n",
       " 'Seeker': 127,\n",
       " 'Seeker_no_weapons': 52,\n",
       " 'Support': 150,\n",
       " 'Support_no_weapons': 50,\n",
       " 'Tactical': 292,\n",
       " 'Tactical_no_weapons': 192,\n",
       " 'Tartaros': 330,\n",
       " 'Tartaros_no_weapons': 145,\n",
       " 'Veterans': 277,\n",
       " 'Veterans_no_weapons': 147}"
      ]
     },
     "execution_count": 174,
     "metadata": {},
     "output_type": "execute_result"
    }
   ],
   "source": [
    "#Squad costs\n",
    "Squads = {}\n",
    "\n",
    "#Headquarters\n",
    "Squads['Centurion'] = Soldiers['Centurion'] + Shooting_weapons['Bolt_pistol'] + Melee_weapons['Chain_sword'] + Items['Frag_grenade'] + Items['Krak_grenade']\n",
    "Squads['Centurion_no_weapons'] = Soldiers['Centurion'] + Items['Frag_grenade'] + Items['Krak_grenade']\n",
    "\n",
    "#Elites\n",
    "Squads['Destroyer'] = (5*(Soldiers['Destroyer'] + Special_rules['Counterattack'] +\n",
    "                          2*Shooting_weapons['Bolt_pistol'] + Melee_weapons['Chain_sword']) + Items['Phosphex_bombs'])\n",
    "Squads['Destroyer_no_weapons'] = (5*(Soldiers['Destroyer'] + Special_rules['Counterattack']) + Items['Phosphex_bombs'])\n",
    "\n",
    "Squads['Veterans'] = (5*(Soldiers['Veteran'] + Shooting_weapons['Bolter'] + Shooting_weapons['Bolt_pistol'] +\n",
    "                        Melee_weapons['Chain_sword'] + \n",
    "                       max(Special_rules['Fearless'],Special_rules['Sniper'],Special_rules['Furious_Charge'], \n",
    "                           Special_rules['Outflank'])) + Items['Frag_grenade'] + Items['Krak_grenade'])\n",
    "Squads['Veterans_no_weapons'] = (5*(Soldiers['Veteran'] +\n",
    "                       max(Special_rules['Fearless'],Special_rules['Sniper'],Special_rules['Furious_Charge'], \n",
    "                           Special_rules['Outflank'])) + Items['Frag_grenade'] + Items['Krak_grenade'])\n",
    "\n",
    "Squads['Cataphractii'] = 5*(Soldiers['Cataphractii'] + Special_rules['Hardened_Armor'] +\n",
    "                            Special_rules['Slow_and_Purposeful'] + Shooting_weapons['Combibolter'] + Melee_weapons['Power_sword'])\n",
    "Squads['Cataphractii_no_weapons'] = 5*(Soldiers['Cataphractii'] + Special_rules['Hardened_Armor'] +\n",
    "                            Special_rules['Slow_and_Purposeful'])\n",
    "\n",
    "Squads['Tartaros'] = 5*(Soldiers['Tartaros'] + \n",
    "                            Special_rules['Slow_and_Purposeful'] + Shooting_weapons['Combibolter'] + Melee_weapons['Power_sword'])\n",
    "Squads['Tartaros_no_weapons'] = 5*(Soldiers['Tartaros'] + \n",
    "                            Special_rules['Slow_and_Purposeful'])\n",
    "\n",
    "#Troops\n",
    "Squads['Tactical'] = 10*(Soldiers['Tactical'] + Special_rules['Fury_of_the_Legion'] +\n",
    "                         Shooting_weapons['Bolter']) + Items['Frag_grenade'] + Items['Krak_grenade']\n",
    "Squads['Tactical_no_weapons'] = 10*(Soldiers['Tactical'] + Special_rules['Fury_of_the_Legion']) + Items['Frag_grenade'] + Items['Krak_grenade']\n",
    "\n",
    "Squads['Breacher'] = 10*(Soldiers['Breacher'] + Special_rules['Hardened_Armor'] \n",
    "                         + Special_rules['Fury_of_the_Legion'] + Shooting_weapons['Bolter'] + \n",
    "                         Items['Breacher_shield']) + Items['Frag_grenade'] + Items['Krak_grenade']\n",
    "Squads['Breacher_no_weapons'] = 10*(Soldiers['Breacher'] + Special_rules['Hardened_Armor'] \n",
    "                         + Special_rules['Fury_of_the_Legion'] +\n",
    "                         Items['Breacher_shield']) + Items['Frag_grenade'] + Items['Krak_grenade']\n",
    "\n",
    "Squads['Recon'] = 5*(Soldiers['Recon'] + max(Special_rules['Infiltrate'] + Special_rules['Scout'],\n",
    "                                             Special_rules['Outflank'],Special_rules['Acute_senses'])\n",
    "                    + Shooting_weapons['Bolter'])\n",
    "Squads['Recon_no_weapons'] = 5*(Soldiers['Recon'] + max(Special_rules['Infiltrate'] + Special_rules['Scout'],\n",
    "                                             Special_rules['Outflank'],Special_rules['Acute_senses']))\n",
    "\n",
    "Squads['Assault'] = (10*(Soldiers['Assault'] + Shooting_weapons['Bolt_pistol'] + \n",
    "                        Melee_weapons['Chain_sword'] + Special_rules['Jump_infantry']) +\n",
    "                     Items['Frag_grenade'] + Items['Krak_grenade'])\n",
    "Squads['Assault_no_weapons'] = (10*(Soldiers['Assault'] + Special_rules['Jump_infantry']) +\n",
    "                     Items['Frag_grenade'] + Items['Krak_grenade'])\n",
    "\n",
    "#Support\n",
    "Squads['Support'] = 5*(Soldiers['Support'] + Shooting_weapons['Flamer'])\n",
    "Squads['Support_no_weapons'] = 5*(Soldiers['Support'])\n",
    "\n",
    "Squads['Seeker'] = (5*(Soldiers['Seeker'] + Shooting_weapons['Bolter'] + Shooting_weapons['Bolt_pistol']) + \n",
    "                     Items['Frag_grenade'] + Items['Krak_grenade'])\n",
    "Squads['Seeker_no_weapons'] = (5*(Soldiers['Seeker']) + \n",
    "                     Items['Frag_grenade'] + Items['Krak_grenade'])\n",
    "\n",
    "\n",
    "Squads"
   ]
  }
 ],
 "metadata": {
  "kernelspec": {
   "display_name": "Python 3",
   "language": "python",
   "name": "python3"
  },
  "language_info": {
   "codemirror_mode": {
    "name": "ipython",
    "version": 3
   },
   "file_extension": ".py",
   "mimetype": "text/x-python",
   "name": "python",
   "nbconvert_exporter": "python",
   "pygments_lexer": "ipython3",
   "version": "3.4.5"
  }
 },
 "nbformat": 4,
 "nbformat_minor": 2
}
