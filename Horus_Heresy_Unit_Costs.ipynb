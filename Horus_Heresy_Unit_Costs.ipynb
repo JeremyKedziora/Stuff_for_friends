{
 "cells": [
  {
   "cell_type": "code",
   "execution_count": 8,
   "metadata": {
    "collapsed": true
   },
   "outputs": [],
   "source": [
    "import numpy as np    #import numpy\n",
    "from math import factorial as f    #import math"
   ]
  },
  {
   "cell_type": "code",
   "execution_count": 9,
   "metadata": {
    "collapsed": false
   },
   "outputs": [],
   "source": [
    "def nCk(n,k):    #define a function to compute the combinations\n",
    "    \"\"\"A function to compute n choose k.  The function returns 0 if k>n.\"\"\"\n",
    "    try:\n",
    "        r = f(n)/(f(k)*f(n-k))\n",
    "    except:\n",
    "        r = 0.0\n",
    "    return r\n"
   ]
  },
  {
   "cell_type": "code",
   "execution_count": 10,
   "metadata": {
    "collapsed": false
   },
   "outputs": [],
   "source": [
    "def B(k,n,p):    #define a function to compute the binomial probability mass function\n",
    "    \"\"\"A function to compute the probability of k successes given n trials w/ prob p of success.\"\"\"\n",
    "    return nCk(n,k)*p**k*(1 - p)**(n - k)\n"
   ]
  },
  {
   "cell_type": "code",
   "execution_count": 11,
   "metadata": {
    "collapsed": true
   },
   "outputs": [],
   "source": [
    "def pmf(k,n_1,p_1,n_2,p_2):    #define a function to compute the derived pmf\n",
    "    \"\"\"A function to compute the probability distribution over the number of hits remaining after defending.\n",
    "    The function takes in:\n",
    "    k: nmber of hits\n",
    "    n_1: the number of attacks\n",
    "    p_1: the likelihood of an attack being successful\n",
    "    n_2: the number of defenses\n",
    "    p_2: the likelhood of defending\n",
    "    The function returns p(k).\"\"\"\n",
    "    p = 0.0\n",
    "    if k >= 0:\n",
    "        for i in range(0,n_1):\n",
    "            p += B(k+i,n_1,p_1)*B(i,n_2,p_2)\n",
    "    if k < 0:\n",
    "        for i in range(0,n_2):\n",
    "            p += B(i,n_1,p_1)*B(k+i,n_2,p_2)\n",
    "    return p\n"
   ]
  },
  {
   "cell_type": "code",
   "execution_count": 12,
   "metadata": {
    "collapsed": true
   },
   "outputs": [],
   "source": [
    "def cmf(Z,n_1,p_1,n_2,p_2):    #a function to compute the cmf - in this case prob that 1 kills 2\n",
    "    \"\"\"A function to compute the probability that computes the CDF of the PMF in the previous cell.\n",
    "    Substantively, this would be the probability that 1 defeats 2.\n",
    "    The function takes in:\n",
    "    Z: the number of hits needed to fell the target\n",
    "    n_1: the number of attack against the target\n",
    "    p_1: the likelihood that an attack will be successful\n",
    "    n_2: the number of defenses\n",
    "    p_2: the likelihood of defending\n",
    "    The function returns p(k>=Z).\"\"\"\n",
    "    c = 0.0\n",
    "    for k in range(Z,n_1+1):\n",
    "        c += pmf(k,n_1,p_1,n_2,p_2)\n",
    "    return c\n"
   ]
  },
  {
   "cell_type": "code",
   "execution_count": 13,
   "metadata": {
    "collapsed": true
   },
   "outputs": [],
   "source": [
    "def Cost(shoot,assault,armor,stamina,bulk,n_action,armor_target,stamina_target):\n",
    "    \"\"\"A function to compute the cost of a unit given assumptions about the importance of ranged fire vs close combat.\n",
    "    The function takes in:\n",
    "    shoot: the number of shooting attacks of the unit to be evaluated\n",
    "    assault: the number of close combat attacks of the unit to be evaluated\n",
    "    armor: the armor of the unit to be evaluated\n",
    "    stamina: the stamina of the unit to be evaluated\n",
    "    bulk: the number of individuals who can fit in a discrete space\n",
    "    n_action: the number of actions the unit to be evaluated can make per turn\n",
    "    armor_target: the armor of the basic target - assume the same for all units to be evaluated\n",
    "    stamina_target: the stamina of the basic target - assume the same for all units to be evaluated\n",
    "    The function returns a non-normalized number that represents a weighted combination of the probability that the\n",
    "    unit to be evaluated kills the basic target and the probability that a unit of the basic target kills the\n",
    "    unit to be evaluated.\"\"\"\n",
    "    #fixed model parameters\n",
    "    p_hit = 2.0/6.0    #from the dice, the prob of a hit\n",
    "    p_chit = 1.0/6.0    #from the dice, the prob of a critical hit\n",
    "    p_defend = 2.0/6.0    #from the dice, the prob of a block\n",
    "\n",
    "    w_shoot = 0.5    #the relative importance of shooting - must add to one with assault\n",
    "    w_assault = 0.5    #the relative importance of assault - must add to one with shooting\n",
    "    w_offense = 0.5    #the relative importance of offense - must add to one with defence\n",
    "    w_defense = 0.5    #the relative importance of defense - must add to one with offense\n",
    "\n",
    "    Shoot_base = 6    #the number of base shooting attacks\n",
    "    Assault_base = 6    #the number of base assault attacks\n",
    "\n",
    "    hex_size = 3.0    #how much can fit in a hex\n",
    "    \n",
    "    c = n_action*(w_offense*(w_shoot*hex_size/bulk*cmf(stamina_target,shoot,p_hit+p_chit,armor_target,p_defend) \n",
    "                             + w_assault*hex_size/bulk*cmf(stamina_target,assault,p_hit+p_chit,armor_target,p_defend)) \n",
    "                  + w_defense*(w_shoot*(1 - cmf(stamina,Shoot_base,p_hit+p_chit,armor,p_defend)) \n",
    "                               + w_assault*(1 - cmf(stamina,Assault_base,p_hit+p_chit,armor,p_defend))))     #compute the cost\n",
    "    \n",
    "    return c\n"
   ]
  },
  {
   "cell_type": "code",
   "execution_count": 21,
   "metadata": {
    "collapsed": false
   },
   "outputs": [
    {
     "name": "stdout",
     "output_type": "stream",
     "text": [
      "The normalizing constant is: 22.677165354330718 .  With this constant an individual basic Astartes is 10 pts.\n"
     ]
    }
   ],
   "source": [
    "#Individual baseline cost with no weapons\n",
    "Cost_Astartes_base = Cost(0,2,2,2,1,2,2,2)\n",
    "M = 10/Cost_Astartes_base\n",
    "print('The normalizing constant is:',M,'.  With this constant an individual basic Astartes is 10 pts.')\n"
   ]
  },
  {
   "cell_type": "code",
   "execution_count": 24,
   "metadata": {
    "collapsed": false
   },
   "outputs": [
    {
     "name": "stdout",
     "output_type": "stream",
     "text": [
      "5\n",
      "1\n"
     ]
    }
   ],
   "source": [
    "#special rule costs\n",
    "Jump_infantry = Cost(0,2,2,2,1,3,2,2) - Cost_Astartes_base    #assume more actions\n",
    "#Hardened_Armor rerolls\n",
    "Counterattack = Cost(0,2,2,2,1,2.3,2,2) - Cost_Astartes_base    #assume more actions\n",
    "#Scout = #assume more actions\n",
    "#Stealth rerolls\n",
    "#Shrouded rerolls\n",
    "Slow_and_Purposeful = Cost(0,2,2,2,1,3,2,2) - Cost_Astartes_base    #assume more actions\n",
    "Chain_fire = \n",
    "#Lone_Killer no idea\n",
    "#Infiltrate = #assume more actions\n",
    "#Outflank = #assume more actions \n",
    "\n",
    "print(round(M*Jump_infantry))\n",
    "print(round(M*Counterattack))"
   ]
  },
  {
   "cell_type": "code",
   "execution_count": null,
   "metadata": {
    "collapsed": true
   },
   "outputs": [],
   "source": [
    "#Costs for individual soldiers\n",
    "#Headquarters\n",
    "Centurion = Cost(0,2,4,3,1,2,2,2)    #Fearless\n",
    "\n",
    "#Elites\n",
    "Veteran = Cost(0,2,3,2,1,2,2,2)    #one of Fearless, Sniper, Furious Charge, Outflank, or Tank Hunters Special rule\n",
    "Destroyer = Cost(0,2,2,2,1,2,2,2)    #counterattack special rule\n",
    "#Cataphractii = #Hardened Armor\n",
    "#Tartaros = \n",
    "\n",
    "#Troops\n",
    "Tactical = Cost(0,2,2,2,1,2,2,2)    #Fury of the Legion\n",
    "Recon = Cost(0,2,2,2,1,2,2,2)    #Infiltrate, Scout, Outflank, and Acute Senses\n",
    "Breacher = Cost(0,2,3,2,1,2,2,2)    #Hardened Armor\n",
    "Assault = Cost(0,2,2,2,1,2,2,2)    #Jump Infantry\n",
    "\n",
    "#Support\n",
    "Support = Cost(0,2,2,2,1,2,2,2)\n",
    "Seeker = Cost(0,2,2,2,1,2,2,2)    #Preferred Enemy"
   ]
  },
  {
   "cell_type": "code",
   "execution_count": null,
   "metadata": {
    "collapsed": true
   },
   "outputs": [],
   "source": [
    "#Shooting Weapon cost factoring in critical effect\n",
    "Cost_bolter = Cost(2,2,2,2,1,2,2,2) + (1 - 5.0/6.0**2.0)*0.5*Cost(2,2,2,2,1,2,2,2) - Cost_Astartes_base\n",
    "Cost_bolt_pistol = Cost_bolter*1.0/2.0\n",
    "Cost_combibolter = Cost(4,2,2,2,1,2,2,2) + (1.0 - 5.0/6.0**4.0)*0.5*Cost(2,2,2,2,1,2,2,2) - Cost_Astartes_base\n",
    "Cost_heavy_bolter = Cost(6,2,2,2,1,2,2,2) + (1 - 5.0/6.0**6.0)*0.5*Cost(2,2,2,2,1,2,2,2) - Cost_Astartes_base\n",
    "Cost_meltagun = 5.0/6.0**3.0*Cost(3,2,2,2,1,2,2,2) + (1.0 - 5.0/6.0**3.0)*Cost(3,2,2,2,1,2,0,2) - Cost_Astartes_base\n",
    "Cost_volkite_caliver = 5.0/6.0**4.0*Cost(4,2,2,2,1,2,2,2) + (1.0 - 5.0/6.0**4.0)*Cost(4,2,2,2,1,2,2,0) - Cost_Astartes_base\n",
    "Cost_volkite_serpenta = 1.0/2.0*(5.0/6.0**3.0*Cost(3,2,2,2,1,2,2,2) + (1.0 - 5.0/6.0**3.0)*Cost(3,2,2,2,1,2,2,0) - Cost_Astartes_base)\n",
    "Cost_flamer = 1.0/2.0*(5.0/6.0**4.0*Cost(4,2,2,2,1,2,2,2) + (1.0 - 5.0/6.0**4.0)*2.0*Cost(4,2,2,2,1,2,2,2) - Cost_Astartes_base)\n",
    "Cost_hand_flamer = 1.0/2.0*(5.0/6.0**3.0*Cost(3,2,2,2,1,2,2,2) + (1.0 - 5.0/6.0**3.0)*2.0*Cost(3,2,2,2,1,2,2,2) - Cost_Astartes_base)\n",
    "Cost_heavy_flamer = 1.0/2.0*(5.0/6.0**6.0*Cost(6,2,2,2,1,2,2,2) + (1.0 - 5.0/6.0**6.0)*2.0*Cost(6,2,2,2,1,2,2,2) - Cost_Astartes_base)\n",
    "Cost_plasmapistol = 1.0/2.0*(5.0/6.0**3.0*Cost(3,2,2,2,1,2,2,2) + (1.0 - 5.0/6.0**3.0)*((B(0.0,4.0,1.0/6.0) + B(1.0,4.0,1.0/6.0))*Cost(7,2,2,2,1,2,2,2) - (B(2.0,4.0,1.0/6.0) + B(3.0,4.0,1.0/6.0) + B(4.0,4.0,1.0/6.0))*Cost(3,2,2,2,1,2,2,2)) - Cost_Astartes_base)\n",
    "Cost_plasmagun = (5.0/6.0**3.0*Cost(3,2,2,2,1,2,2,2) + (1.0 - 5.0/6.0**3.0)*((B(0.0,4.0,1.0/6.0) + B(1.0,4.0,1.0/6.0))*Cost(7,2,2,2,1,2,2,2) - (B(2.0,4.0,1.0/6.0) + B(3.0,4.0,1.0/6.0) + B(4.0,4.0,1.0/6.0))*Cost(3,2,2,2,1,2,2,2)) - Cost_Astartes_base)\n",
    "Cost_combiweapon = 1.0/2.0*Cost_bolter + 1.0/2.0*(1.0/3.0*Cost_flamer + 1.0/3.0*Cost_plasmagun + 1.0/3.0*Cost_meltagun)\n",
    "Cost_sniper_rifle = Cost(4,2,2,2,1,2,2,2) + (1 - 5.0/6.0**4.0)*1.0/3.0*1.0/2.0*Cost(2,2,2,2,1,2,2,2) - Cost_Astartes_base\n",
    "Cost_rocket_launcher = 5.0/6.0**5.0*Cost(5,2,2,2,1,2,2,2) + (1.0 - 5.0/6.0**5.0)*Cost(7,2,2,2,1,2,2,0) - Cost_Astartes_base\n",
    "Cost_graviton_gun = Cost(6,2,2,2,1,2,2,2) + (1 - 5.0/6.0**6.0)*Cost(2,2,2,2,1,2,2,2) - Cost_Astartes_base"
   ]
  },
  {
   "cell_type": "code",
   "execution_count": null,
   "metadata": {
    "collapsed": true
   },
   "outputs": [],
   "source": [
    "#Item costs\n",
    "Cataphractii_terminator_armor = Cost(0,3,5,3,1.5,2,2,2) - Cost_Astartes_base\n",
    "Tartaros_terminator_armor = Cost(0,3,5,3,1.5,2,2,2) - Cost_Astartes_base\n",
    "#Artificer_armor = \n",
    "#Iron_halo = \n",
    "#Breacher_shield = \n"
   ]
  }
 ],
 "metadata": {
  "kernelspec": {
   "display_name": "Python 3",
   "language": "python",
   "name": "python3"
  },
  "language_info": {
   "codemirror_mode": {
    "name": "ipython",
    "version": 3
   },
   "file_extension": ".py",
   "mimetype": "text/x-python",
   "name": "python",
   "nbconvert_exporter": "python",
   "pygments_lexer": "ipython3",
   "version": "3.4.5"
  }
 },
 "nbformat": 4,
 "nbformat_minor": 2
}
